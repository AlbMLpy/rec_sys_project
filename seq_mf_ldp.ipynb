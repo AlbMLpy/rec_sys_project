{
 "cells": [
  {
   "cell_type": "code",
   "execution_count": 1,
   "metadata": {},
   "outputs": [],
   "source": [
    "%load_ext autoreload\n",
    "%autoreload 2"
   ]
  },
  {
   "cell_type": "code",
   "execution_count": 2,
   "metadata": {},
   "outputs": [],
   "source": [
    "import numpy as np\n",
    "import pandas as pd\n",
    "import matplotlib.pyplot as plt\n",
    "\n",
    "from ipypb import irange\n",
    "\n",
    "from DataProcessor import DataProcessor\n",
    "from seq_mf_ldp import get_scores_generator, fit_restricted\n",
    "from evaluation import evaluate, evaluation_callback"
   ]
  },
  {
   "cell_type": "code",
   "execution_count": 3,
   "metadata": {},
   "outputs": [],
   "source": [
    "from seq_mf_ldp import LDP\n",
    "from yacs.config import CfgNode as CN"
   ]
  },
  {
   "cell_type": "markdown",
   "metadata": {},
   "source": [
    "# Load and preprocess the data:"
   ]
  },
  {
   "cell_type": "code",
   "execution_count": 4,
   "metadata": {},
   "outputs": [],
   "source": [
    "data_file_name = \"lsapp.csv\"\n",
    "\n",
    "process_data = DataProcessor(\n",
    "    data_file_name,\n",
    "    column_names='userid,appid,timestamp',\n",
    "    session_break_delta='15min',\n",
    ")\n",
    "\n",
    "process_data.prepare_data(\n",
    "    usecols=['userid', 'appid', 'timestamp'],\n",
    "    test_interval='14d',\n",
    "    valid_interval='7d',\n",
    "    min_sess_length=2,\n",
    "    window=\"3s\",\n",
    ")\n",
    "\n",
    "# Define user-contex matrix:\n",
    "uid2Sui = process_data.get_users_sui(process_data.train, level='userid')"
   ]
  },
  {
   "cell_type": "markdown",
   "metadata": {},
   "source": [
    "# Gridsearch the model:"
   ]
  },
  {
   "cell_type": "code",
   "execution_count": 5,
   "metadata": {
    "scrolled": false
   },
   "outputs": [],
   "source": [
    "# from itertools import product\n",
    "\n",
    "# rank_range = [32, 128, 256]\n",
    "# gamma_range = [0.5, 1, 2]\n",
    "# gain_range = [5e-5, 1e-4]\n",
    "# niter_range = [1, 10]\n",
    "# reg_range = [1e-3, 1e-2, 1e-1, 1]\n",
    "# eta_usage = [True, False]\n",
    "# c0 = 1\n",
    "# seed = 13\n",
    "# show_result = True\n",
    "\n",
    "# grid = product(rank_range, gamma_range, gain_range, niter_range, reg_range, eta_usage)\n",
    "\n",
    "# best_params = None\n",
    "# best_hr = 0.0\n",
    "# for n_factors, gamma, gain, n_iter, regularization, eta_bool in grid:\n",
    "#     Cui = process_data.get_freqs(process_data.train, c0=c0, gamma=gamma)\n",
    "\n",
    "#     local_factors, global_factors = fit_restricted(\n",
    "#         Cui,\n",
    "#         uid2Sui,\n",
    "#         n_factors,\n",
    "#         regularization,\n",
    "#         gain,\n",
    "#         n_iter=n_iter,\n",
    "#         seed=seed,\n",
    "#         evaluation_callback=None,\n",
    "#         iterator=range,\n",
    "#         use_eta=eta_bool,\n",
    "#     )\n",
    "#     up_generate_scores = get_scores_generator(local_factors, global_factors)\n",
    "#     metrics_df, user_stats = evaluate(\n",
    "#         up_generate_scores,\n",
    "#         process_data.valid_sessions,\n",
    "#         process_data.seen_interactions,\n",
    "#     )\n",
    "#     valid_results = (\n",
    "#         metrics_df\n",
    "#         .reset_index()\n",
    "#         .groupby([\"topk\"])\n",
    "#         .mean()[[\"hr\", \"mrr\", \"ndcg\"]]\n",
    "#     )\n",
    "#     hr = valid_results[\"hr\"][5]\n",
    "\n",
    "#     if hr > best_hr:\n",
    "#         best_hr = hr\n",
    "#         best_params = (n_factors, gamma, gain, n_iter, regularization, eta_bool)\n",
    "#         if show_result:\n",
    "#             print(\n",
    "#                 f\"SeqMF:\"\n",
    "#                 + f\"\\nBest HR@5: {best_hr}; MRR@5: {valid_results['mrr'][5]}\"\n",
    "#                 + f\"\\nThe best performance parameters:\"\n",
    "#                 + f'\\nn_factors={n_factors}, gamma={gamma}, lr={gain}, niter={n_iter}, reg={regularization}, eta={eta_bool}'\n",
    "#             ) "
   ]
  },
  {
   "cell_type": "code",
   "execution_count": 6,
   "metadata": {},
   "outputs": [],
   "source": [
    "best_params = [256, 1, 5e-05, 1, 0.001, True]\n",
    "c0 = 1\n",
    "seed = 13\n",
    "show_result = True"
   ]
  },
  {
   "cell_type": "code",
   "execution_count": 7,
   "metadata": {},
   "outputs": [
    {
     "name": "stdout",
     "output_type": "stream",
     "text": [
      "0.1 0.37976350702916234\n",
      "0.2 0.381077737818763\n",
      "0.3 0.39845993209571884\n",
      "0.5 0.41539884982958586\n",
      "1 0.46868504625517404\n",
      "1.5 0.5199146795454371\n",
      "2 0.5640540374633425\n",
      "2.5 0.555439249543883\n",
      "3 0.5920338514430433\n",
      "3.5 0.5935116593909874\n",
      "4 0.6140622972452331\n"
     ]
    }
   ],
   "source": [
    "budgets = [0.1, 0.2, 0.3, 0.5, 1, 1.5, 2, 2.5, 3, 3.5, 4]\n",
    "hr_at_5 = []\n",
    "\n",
    "for budget in budgets:\n",
    "    system_config = CN()\n",
    "    system_config.LDP = CN()\n",
    "    system_config.LDP.PRIVACY_BUDGET = budget\n",
    "    system_config.LDP.HARMONY = CN()\n",
    "    system_config.LDP.HARMONY.APPLY = True\n",
    "    system_config.LDP.HARMONY.k = 1\n",
    "    system_config.LDP.LAPLACE = CN()\n",
    "    system_config.LDP.LAPLACE.APPLY = False\n",
    "    system_config.LDP.SEED = 42\n",
    "    ldp = LDP(system_config.LDP)\n",
    "\n",
    "    n_factors, gamma, gain, n_iter, regularization, eta_bool = best_params\n",
    "\n",
    "    Cui = process_data.get_freqs(process_data.train, c0=c0, gamma=gamma)\n",
    "\n",
    "    local_factors, global_factors = fit_restricted(\n",
    "        Cui,\n",
    "        uid2Sui,\n",
    "        n_factors,\n",
    "        regularization,\n",
    "        gain,\n",
    "        n_iter=n_iter,\n",
    "        seed=seed,\n",
    "        evaluation_callback=None,\n",
    "        iterator=range,\n",
    "        use_eta=eta_bool,\n",
    "        ldp=ldp\n",
    "    )\n",
    "    up_generate_scores = get_scores_generator(local_factors, global_factors)\n",
    "\n",
    "    metrics_df, user_stats = evaluate(\n",
    "        up_generate_scores,\n",
    "        process_data.test_sessions,\n",
    "        process_data.seen_interactions,\n",
    "    )\n",
    "    \n",
    "    new_results = (\n",
    "        metrics_df\n",
    "        .reset_index()\n",
    "        .groupby([\"topk\"])\n",
    "        .mean()[[\"hr\", \"mrr\", \"ndcg\"]]\n",
    "    )\n",
    "    hr_at_5.append(new_results['hr'][5])\n",
    "    print(budget, new_results['hr'][5])"
   ]
  },
  {
   "cell_type": "code",
   "execution_count": 8,
   "metadata": {},
   "outputs": [
    {
     "name": "stdout",
     "output_type": "stream",
     "text": [
      "0.1 0.3984197044901611\n",
      "0.2 0.39960113960927723\n",
      "0.3 0.4291775957841711\n",
      "0.5 0.44271501930729784\n",
      "1 0.47778306078314153\n",
      "1.5 0.6137407742378586\n",
      "2 0.6290021268396098\n",
      "2.5 0.6676593269295518\n",
      "3 0.7162398654756462\n",
      "3.5 0.7280929318937426\n",
      "4 0.7293348626649298\n"
     ]
    }
   ],
   "source": [
    "budgets = [0.1, 0.2, 0.3, 0.5, 1, 1.5, 2, 2.5, 3, 3.5, 4]\n",
    "hr_at_5_2 = []\n",
    "\n",
    "for budget in budgets:\n",
    "    system_config = CN()\n",
    "    system_config.LDP = CN()\n",
    "    system_config.LDP.PRIVACY_BUDGET = budget\n",
    "    system_config.LDP.HARMONY = CN()\n",
    "    system_config.LDP.HARMONY.APPLY = True\n",
    "    system_config.LDP.HARMONY.k = 2\n",
    "    system_config.LDP.LAPLACE = CN()\n",
    "    system_config.LDP.LAPLACE.APPLY = False\n",
    "    system_config.LDP.SEED = 42\n",
    "    ldp = LDP(system_config.LDP)\n",
    "\n",
    "    n_factors, gamma, gain, n_iter, regularization, eta_bool = best_params\n",
    "\n",
    "    Cui = process_data.get_freqs(process_data.train, c0=c0, gamma=gamma)\n",
    "\n",
    "    local_factors, global_factors = fit_restricted(\n",
    "        Cui,\n",
    "        uid2Sui,\n",
    "        n_factors,\n",
    "        regularization,\n",
    "        gain,\n",
    "        n_iter=n_iter,\n",
    "        seed=seed,\n",
    "        evaluation_callback=None,\n",
    "        iterator=range,\n",
    "        use_eta=eta_bool,\n",
    "        ldp=ldp\n",
    "    )\n",
    "    up_generate_scores = get_scores_generator(local_factors, global_factors)\n",
    "\n",
    "    metrics_df, user_stats = evaluate(\n",
    "        up_generate_scores,\n",
    "        process_data.test_sessions,\n",
    "        process_data.seen_interactions,\n",
    "    )\n",
    "    \n",
    "    new_results = (\n",
    "        metrics_df\n",
    "        .reset_index()\n",
    "        .groupby([\"topk\"])\n",
    "        .mean()[[\"hr\", \"mrr\", \"ndcg\"]]\n",
    "    )\n",
    "    hr_at_5_2.append(new_results['hr'][5])\n",
    "    print(budget, new_results['hr'][5])"
   ]
  },
  {
   "cell_type": "code",
   "execution_count": 9,
   "metadata": {},
   "outputs": [
    {
     "name": "stdout",
     "output_type": "stream",
     "text": [
      "0.1 0.36700038672449387\n",
      "0.2 0.35601706458460985\n",
      "0.3 0.37089146586252875\n",
      "0.5 0.43398654776132667\n",
      "1 0.6166112455143893\n",
      "1.5 0.7484428004861075\n",
      "2 0.7666976464650114\n",
      "2.5 0.7706124480215306\n",
      "3 0.7706069150469136\n",
      "3.5 0.7701033668089823\n",
      "4 0.7710995119141731\n"
     ]
    }
   ],
   "source": [
    "budgets = [0.1, 0.2, 0.3, 0.5, 1, 1.5, 2, 2.5, 3, 3.5, 4]\n",
    "hr_at_5_5 = []\n",
    "\n",
    "for budget in budgets:\n",
    "    system_config = CN()\n",
    "    system_config.LDP = CN()\n",
    "    system_config.LDP.PRIVACY_BUDGET = budget\n",
    "    system_config.LDP.HARMONY = CN()\n",
    "    system_config.LDP.HARMONY.APPLY = True\n",
    "    system_config.LDP.HARMONY.k = 5\n",
    "    system_config.LDP.LAPLACE = CN()\n",
    "    system_config.LDP.LAPLACE.APPLY = False\n",
    "    system_config.LDP.SEED = 42\n",
    "    ldp = LDP(system_config.LDP)\n",
    "\n",
    "    n_factors, gamma, gain, n_iter, regularization, eta_bool = best_params\n",
    "\n",
    "    Cui = process_data.get_freqs(process_data.train, c0=c0, gamma=gamma)\n",
    "\n",
    "    local_factors, global_factors = fit_restricted(\n",
    "        Cui,\n",
    "        uid2Sui,\n",
    "        n_factors,\n",
    "        regularization,\n",
    "        gain,\n",
    "        n_iter=n_iter,\n",
    "        seed=seed,\n",
    "        evaluation_callback=None,\n",
    "        iterator=range,\n",
    "        use_eta=eta_bool,\n",
    "        ldp=ldp\n",
    "    )\n",
    "    up_generate_scores = get_scores_generator(local_factors, global_factors)\n",
    "\n",
    "    metrics_df, user_stats = evaluate(\n",
    "        up_generate_scores,\n",
    "        process_data.test_sessions,\n",
    "        process_data.seen_interactions,\n",
    "    )\n",
    "    \n",
    "    new_results = (\n",
    "        metrics_df\n",
    "        .reset_index()\n",
    "        .groupby([\"topk\"])\n",
    "        .mean()[[\"hr\", \"mrr\", \"ndcg\"]]\n",
    "    )\n",
    "    hr_at_5_5.append(new_results['hr'][5])\n",
    "    print(budget, new_results['hr'][5])"
   ]
  },
  {
   "cell_type": "code",
   "execution_count": 16,
   "metadata": {},
   "outputs": [
    {
     "data": {
      "image/png": "[encoded data removed]",
      "text/plain": [
       "<Figure size 432x288 with 1 Axes>"
      ]
     },
     "metadata": {
      "needs_background": "light"
     },
     "output_type": "display_data"
    }
   ],
   "source": [
    "plt.title('Harmony mechanism')\n",
    "plt.xlabel(r'$\\varepsilon$ bits')\n",
    "plt.ylabel('HR@5')\n",
    "plt.plot(budgets, hr_at_5, label='k=1')\n",
    "plt.plot(budgets, hr_at_5_2, label='k=2')\n",
    "plt.plot(budgets, hr_at_5_5, label='k=5')\n",
    "plt.legend()\n",
    "plt.savefig('harmony.pdf', format='pdf', bbox_inches='tight')"
   ]
  },
  {
   "cell_type": "code",
   "execution_count": 11,
   "metadata": {},
   "outputs": [
    {
     "name": "stdout",
     "output_type": "stream",
     "text": [
      "0.1 0.35582764303829445\n",
      "0.2 0.35582764303829445\n",
      "0.3 0.35582764303829445\n",
      "0.5 0.35582764303829445\n",
      "1 0.35582764303829445\n",
      "1.5 0.35582764303829445\n",
      "2 0.35582764303829445\n",
      "2.5 0.3558591927606569\n",
      "3 0.3558591927606569\n",
      "3.5 0.3558591927606569\n",
      "4 0.3559296814824614\n"
     ]
    }
   ],
   "source": [
    "budgets = [0.1, 0.2, 0.3, 0.5, 1, 1.5, 2, 2.5, 3, 3.5, 4]\n",
    "hr_at_5_lap = []\n",
    "\n",
    "for budget in budgets:\n",
    "    system_config = CN()\n",
    "    system_config.LDP = CN()\n",
    "    system_config.LDP.PRIVACY_BUDGET = budget\n",
    "    system_config.LDP.HARMONY = CN()\n",
    "    system_config.LDP.HARMONY.APPLY = False\n",
    "    system_config.LDP.HARMONY.k = 5\n",
    "    system_config.LDP.LAPLACE = CN()\n",
    "    system_config.LDP.LAPLACE.APPLY = True\n",
    "    system_config.LDP.SEED = 42\n",
    "    ldp = LDP(system_config.LDP)\n",
    "\n",
    "    n_factors, gamma, gain, n_iter, regularization, eta_bool = best_params\n",
    "\n",
    "    Cui = process_data.get_freqs(process_data.train, c0=c0, gamma=gamma)\n",
    "\n",
    "    local_factors, global_factors = fit_restricted(\n",
    "        Cui,\n",
    "        uid2Sui,\n",
    "        n_factors,\n",
    "        regularization,\n",
    "        gain,\n",
    "        n_iter=n_iter,\n",
    "        seed=seed,\n",
    "        evaluation_callback=None,\n",
    "        iterator=range,\n",
    "        use_eta=eta_bool,\n",
    "        ldp=ldp\n",
    "    )\n",
    "    up_generate_scores = get_scores_generator(local_factors, global_factors)\n",
    "\n",
    "    metrics_df, user_stats = evaluate(\n",
    "        up_generate_scores,\n",
    "        process_data.test_sessions,\n",
    "        process_data.seen_interactions,\n",
    "    )\n",
    "    \n",
    "    new_results = (\n",
    "        metrics_df\n",
    "        .reset_index()\n",
    "        .groupby([\"topk\"])\n",
    "        .mean()[[\"hr\", \"mrr\", \"ndcg\"]]\n",
    "    )\n",
    "    hr_at_5_lap.append(new_results['hr'][5])\n",
    "    print(budget, new_results['hr'][5])"
   ]
  },
  {
   "cell_type": "code",
   "execution_count": 13,
   "metadata": {},
   "outputs": [
    {
     "data": {
      "image/png": "[encoded data removed]",
      "text/plain": [
       "<Figure size 432x288 with 1 Axes>"
      ]
     },
     "metadata": {
      "needs_background": "light"
     },
     "output_type": "display_data"
    }
   ],
   "source": [
    "plt.title('Privacy mechanisms')\n",
    "plt.xlabel(r'$\\varepsilon$ bits')\n",
    "plt.ylabel('HR@5')\n",
    "plt.plot(budgets, hr_at_5, label='Harmony, k=1')\n",
    "plt.plot(budgets, hr_at_5_2, label='k=2')\n",
    "plt.plot(budgets, hr_at_5_5, label='k=5')\n",
    "plt.plot(budgets, hr_at_5_lap, label='lap')\n",
    "plt.legend()\n",
    "plt.savefig('harmony.pdf', format='pdf', bbox_inches='tight')"
   ]
  },
  {
   "cell_type": "code",
   "execution_count": 15,
   "metadata": {},
   "outputs": [
    {
     "data": {
      "text/html": [
       "<div>\n",
       "<style scoped>\n",
       "    .dataframe tbody tr th:only-of-type {\n",
       "        vertical-align: middle;\n",
       "    }\n",
       "\n",
       "    .dataframe tbody tr th {\n",
       "        vertical-align: top;\n",
       "    }\n",
       "\n",
       "    .dataframe thead th {\n",
       "        text-align: right;\n",
       "    }\n",
       "</style>\n",
       "<table border=\"1\" class=\"dataframe\">\n",
       "  <thead>\n",
       "    <tr style=\"text-align: right;\">\n",
       "      <th>metrics</th>\n",
       "      <th>hr</th>\n",
       "      <th>mrr</th>\n",
       "      <th>ndcg</th>\n",
       "    </tr>\n",
       "    <tr>\n",
       "      <th>topk</th>\n",
       "      <th></th>\n",
       "      <th></th>\n",
       "      <th></th>\n",
       "    </tr>\n",
       "  </thead>\n",
       "  <tbody>\n",
       "    <tr>\n",
       "      <th>1</th>\n",
       "      <td>0.246456</td>\n",
       "      <td>0.246456</td>\n",
       "      <td>0.246456</td>\n",
       "    </tr>\n",
       "    <tr>\n",
       "      <th>3</th>\n",
       "      <td>0.557077</td>\n",
       "      <td>0.384011</td>\n",
       "      <td>0.428488</td>\n",
       "    </tr>\n",
       "    <tr>\n",
       "      <th>5</th>\n",
       "      <td>0.766698</td>\n",
       "      <td>0.430545</td>\n",
       "      <td>0.513621</td>\n",
       "    </tr>\n",
       "  </tbody>\n",
       "</table>\n",
       "</div>"
      ],
      "text/plain": [
       "metrics        hr       mrr      ndcg\n",
       "topk                                 \n",
       "1        0.246456  0.246456  0.246456\n",
       "3        0.557077  0.384011  0.428488\n",
       "5        0.766698  0.430545  0.513621"
      ]
     },
     "execution_count": 15,
     "metadata": {},
     "output_type": "execute_result"
    }
   ],
   "source": [
    "system_config = CN()\n",
    "system_config.LDP = CN()\n",
    "system_config.LDP.PRIVACY_BUDGET = 2\n",
    "system_config.LDP.HARMONY = CN()\n",
    "system_config.LDP.HARMONY.APPLY = True\n",
    "system_config.LDP.HARMONY.k = 5\n",
    "system_config.LDP.LAPLACE = CN()\n",
    "system_config.LDP.LAPLACE.APPLY = False\n",
    "system_config.LDP.SEED = 42\n",
    "ldp = LDP(system_config.LDP)\n",
    "\n",
    "n_factors, gamma, gain, n_iter, regularization, eta_bool = best_params\n",
    "\n",
    "Cui = process_data.get_freqs(process_data.train, c0=c0, gamma=gamma)\n",
    "\n",
    "local_factors, global_factors = fit_restricted(\n",
    "    Cui,\n",
    "    uid2Sui,\n",
    "    n_factors,\n",
    "    regularization,\n",
    "    gain,\n",
    "    n_iter=n_iter,\n",
    "    seed=seed,\n",
    "    evaluation_callback=None,\n",
    "    iterator=range,\n",
    "    use_eta=eta_bool,\n",
    "    ldp=ldp\n",
    ")\n",
    "up_generate_scores = get_scores_generator(local_factors, global_factors)\n",
    "\n",
    "metrics_df, user_stats = evaluate(\n",
    "    up_generate_scores,\n",
    "    process_data.test_sessions,\n",
    "    process_data.seen_interactions,\n",
    ")\n",
    "\n",
    "new_results = (\n",
    "    metrics_df\n",
    "    .reset_index()\n",
    "    .groupby([\"topk\"])\n",
    "    .mean()[[\"hr\", \"mrr\", \"ndcg\"]]\n",
    ")\n",
    "new_results"
   ]
  },
  {
   "cell_type": "code",
   "execution_count": null,
   "metadata": {},
   "outputs": [],
   "source": []
  }
 ],
 "metadata": {
  "interpreter": {
   "hash": "916dbcbb3f70747c44a77c7bcd40155683ae19c65e1c03b4aa3499c5328201f1"
  },
  "kernelspec": {
   "display_name": "Python 3",
   "language": "python",
   "name": "python3"
  },
  "language_info": {
   "codemirror_mode": {
    "name": "ipython",
    "version": 3
   },
   "file_extension": ".py",
   "mimetype": "text/x-python",
   "name": "python",
   "nbconvert_exporter": "python",
   "pygments_lexer": "ipython3",
   "version": "3.9.10"
  }
 },
 "nbformat": 4,
 "nbformat_minor": 2
}
