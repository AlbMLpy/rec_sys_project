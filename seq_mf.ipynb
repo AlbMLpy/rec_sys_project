{
 "cells": [
  {
   "cell_type": "code",
   "execution_count": 1,
   "metadata": {},
   "outputs": [],
   "source": [
    "import numpy as np\n",
    "import pandas as pd\n",
    "import matplotlib.pyplot as plt\n",
    "\n",
    "from ipypb import irange\n",
    "\n",
    "from DataProcessor import DataProcessor\n",
    "from seq_mf import get_scores_generator, fit_restricted\n",
    "from evaluation import evaluate, evaluation_callback"
   ]
  },
  {
   "cell_type": "markdown",
   "metadata": {},
   "source": [
    "# Load and preprocess the data:"
   ]
  },
  {
   "cell_type": "code",
   "execution_count": 2,
   "metadata": {},
   "outputs": [],
   "source": [
    "data_file_name = \"lsapp.csv\"\n",
    "\n",
    "process_data = DataProcessor(\n",
    "    data_file_name,\n",
    "    column_names='userid,appid,timestamp',\n",
    "    session_break_delta='15min',\n",
    ")\n",
    "\n",
    "process_data.prepare_data(\n",
    "    usecols=['userid', 'appid', 'timestamp'],\n",
    "    test_interval='14d',\n",
    "    valid_interval='7d',\n",
    "    min_sess_length=2,\n",
    "    window=\"3s\",\n",
    ")\n",
    "\n",
    "# Define user-contex matrix:\n",
    "uid2Sui = process_data.get_users_sui(process_data.train, level='userid')"
   ]
  },
  {
   "cell_type": "markdown",
   "metadata": {},
   "source": [
    "# Gridsearch the model:"
   ]
  },
  {
   "cell_type": "code",
   "execution_count": 4,
   "metadata": {},
   "outputs": [
    {
     "name": "stdout",
     "output_type": "stream",
     "text": [
      "SeqMF:\n",
      "Best HR@5: 0.7023340271697435; MRR@5: 0.4349034534864815\n",
      "The best performance parameters:\n",
      "n_factors=32, gamma=0.5, lr=5e-05, niter=1, reg=0.001, eta=True\n",
      "SeqMF:\n",
      "Best HR@5: 0.7697010922614509; MRR@5: 0.4925002059845813\n",
      "The best performance parameters:\n",
      "n_factors=32, gamma=1, lr=5e-05, niter=1, reg=0.001, eta=True\n"
     ]
    },
    {
     "name": "stderr",
     "output_type": "stream",
     "text": [
      "/home/albert/.local/lib/python3.9/site-packages/numpy/core/_methods.py:47: RuntimeWarning: overflow encountered in reduce\n",
      "  return umr_sum(a, axis, dtype, out, keepdims, initial, where)\n",
      "/home/albert/rec_sys_project/seq_mf.py:77: RuntimeWarning: overflow encountered in multiply\n",
      "  seq_part *= eta[u]\n"
     ]
    },
    {
     "name": "stdout",
     "output_type": "stream",
     "text": [
      "SeqMF:\n",
      "Best HR@5: 0.7848824003950404; MRR@5: 0.5038752286075311\n",
      "The best performance parameters:\n",
      "n_factors=128, gamma=0.5, lr=5e-05, niter=1, reg=0.001, eta=True\n",
      "SeqMF:\n",
      "Best HR@5: 0.793508054171779; MRR@5: 0.5127899042142385\n",
      "The best performance parameters:\n",
      "n_factors=128, gamma=0.5, lr=5e-05, niter=1, reg=0.01, eta=False\n",
      "SeqMF:\n",
      "Best HR@5: 0.8017386649263595; MRR@5: 0.5265386222241286\n",
      "The best performance parameters:\n",
      "n_factors=128, gamma=1, lr=5e-05, niter=1, reg=0.001, eta=False\n",
      "SeqMF:\n",
      "Best HR@5: 0.8056139798316259; MRR@5: 0.5256801856527482\n",
      "The best performance parameters:\n",
      "n_factors=128, gamma=1, lr=0.0001, niter=1, reg=0.001, eta=False\n",
      "SeqMF:\n",
      "Best HR@5: 0.8159196613376648; MRR@5: 0.5258594705746472\n",
      "The best performance parameters:\n",
      "n_factors=256, gamma=0.5, lr=5e-05, niter=1, reg=0.001, eta=True\n",
      "SeqMF:\n",
      "Best HR@5: 0.8205783505277496; MRR@5: 0.5278234205414835\n",
      "The best performance parameters:\n",
      "n_factors=256, gamma=1, lr=5e-05, niter=1, reg=0.001, eta=True\n"
     ]
    },
    {
     "name": "stderr",
     "output_type": "stream",
     "text": [
      "/home/albert/rec_sys_project/seq_mf.py:95: RuntimeWarning: overflow encountered in multiply\n",
      "  return longterm_grad + eta[u] * sessions_grad\n",
      "/home/albert/rec_sys_project/seq_mf.py:54: RuntimeWarning: overflow encountered in add\n",
      "  grad += gradient_update(user)\n",
      "/home/albert/.local/lib/python3.9/site-packages/numpy/core/numeric.py:942: RuntimeWarning: overflow encountered in multiply\n",
      "  return multiply(a.ravel()[:, newaxis], b.ravel()[newaxis, :], out)\n"
     ]
    }
   ],
   "source": [
    "from itertools import product\n",
    "\n",
    "rank_range = [32, 128, 256]\n",
    "gamma_range = [0.5, 1, 2]\n",
    "gain_range = [5e-5, 1e-4]\n",
    "niter_range = [1, 10]\n",
    "reg_range = [1e-3, 1e-2, 1e-1, 1]\n",
    "eta_usage = [True, False]\n",
    "c0 = 1\n",
    "seed = 13\n",
    "show_result = True\n",
    "\n",
    "grid = product(rank_range, gamma_range, gain_range, niter_range, reg_range, eta_usage)\n",
    "\n",
    "best_params = None\n",
    "best_hr = 0.0\n",
    "for n_factors, gamma, gain, n_iter, regularization, eta_bool in grid:\n",
    "    Cui = process_data.get_freqs(process_data.train, c0=c0, gamma=gamma)\n",
    "\n",
    "    local_factors, global_factors = fit_restricted(\n",
    "        Cui,\n",
    "        uid2Sui,\n",
    "        n_factors,\n",
    "        regularization,\n",
    "        gain,\n",
    "        n_iter=n_iter,\n",
    "        seed=seed,\n",
    "        evaluation_callback=None,\n",
    "        iterator=range,\n",
    "        use_eta=eta_bool,\n",
    "    )\n",
    "    up_generate_scores = get_scores_generator(local_factors, global_factors)\n",
    "    metrics_df, user_stats = evaluate(\n",
    "        up_generate_scores,\n",
    "        process_data.valid_sessions,\n",
    "        process_data.seen_interactions,\n",
    "    )\n",
    "    valid_results = (\n",
    "        metrics_df\n",
    "        .reset_index()\n",
    "        .groupby([\"topk\"])\n",
    "        .mean()[[\"hr\", \"mrr\", \"ndcg\"]]\n",
    "    )\n",
    "    hr = valid_results[\"hr\"][5]\n",
    "\n",
    "    if hr > best_hr:\n",
    "        best_hr = hr\n",
    "        best_params = (n_factors, gamma, gain, n_iter, regularization, eta_bool)\n",
    "        if show_result:\n",
    "            print(\n",
    "                f\"SeqMF:\"\n",
    "                + f\"\\nBest HR@5: {best_hr}; MRR@5: {valid_results['mrr'][5]}\"\n",
    "                + f\"\\nThe best performance parameters:\"\n",
    "                + f'\\nn_factors={n_factors}, gamma={gamma}, lr={gain}, niter={n_iter}, reg={regularization}, eta={eta_bool}'\n",
    "            ) "
   ]
  },
  {
   "cell_type": "code",
   "execution_count": 5,
   "metadata": {},
   "outputs": [
    {
     "data": {
      "text/html": [
       "<div>\n",
       "<style scoped>\n",
       "    .dataframe tbody tr th:only-of-type {\n",
       "        vertical-align: middle;\n",
       "    }\n",
       "\n",
       "    .dataframe tbody tr th {\n",
       "        vertical-align: top;\n",
       "    }\n",
       "\n",
       "    .dataframe thead th {\n",
       "        text-align: right;\n",
       "    }\n",
       "</style>\n",
       "<table border=\"1\" class=\"dataframe\">\n",
       "  <thead>\n",
       "    <tr style=\"text-align: right;\">\n",
       "      <th>metrics</th>\n",
       "      <th>hr</th>\n",
       "      <th>mrr</th>\n",
       "      <th>ndcg</th>\n",
       "    </tr>\n",
       "    <tr>\n",
       "      <th>topk</th>\n",
       "      <th></th>\n",
       "      <th></th>\n",
       "      <th></th>\n",
       "    </tr>\n",
       "  </thead>\n",
       "  <tbody>\n",
       "    <tr>\n",
       "      <th>1</th>\n",
       "      <td>0.408695</td>\n",
       "      <td>0.408695</td>\n",
       "      <td>0.408695</td>\n",
       "    </tr>\n",
       "    <tr>\n",
       "      <th>3</th>\n",
       "      <td>0.645289</td>\n",
       "      <td>0.509801</td>\n",
       "      <td>0.544464</td>\n",
       "    </tr>\n",
       "    <tr>\n",
       "      <th>5</th>\n",
       "      <td>0.755680</td>\n",
       "      <td>0.534879</td>\n",
       "      <td>0.589798</td>\n",
       "    </tr>\n",
       "  </tbody>\n",
       "</table>\n",
       "</div>"
      ],
      "text/plain": [
       "metrics        hr       mrr      ndcg\n",
       "topk                                 \n",
       "1        0.408695  0.408695  0.408695\n",
       "3        0.645289  0.509801  0.544464\n",
       "5        0.755680  0.534879  0.589798"
      ]
     },
     "execution_count": 5,
     "metadata": {},
     "output_type": "execute_result"
    }
   ],
   "source": [
    "n_factors, gamma, gain, n_iter, regularization, eta_bool = best_params\n",
    "\n",
    "Cui = process_data.get_freqs(process_data.train, c0=c0, gamma=gamma)\n",
    "\n",
    "local_factors, global_factors = fit_restricted(\n",
    "    Cui,\n",
    "    uid2Sui,\n",
    "    n_factors,\n",
    "    regularization,\n",
    "    gain,\n",
    "    n_iter=n_iter,\n",
    "    seed=seed,\n",
    "    evaluation_callback=None,\n",
    "    iterator=range,\n",
    "    use_eta=eta_bool,\n",
    ")\n",
    "up_generate_scores = get_scores_generator(local_factors, global_factors)\n",
    "\n",
    "metrics_df, user_stats = evaluate(\n",
    "    up_generate_scores,\n",
    "    process_data.test_sessions,\n",
    "    process_data.seen_interactions,\n",
    ")\n",
    "\n",
    "test_results = (\n",
    "    metrics_df\n",
    "    .reset_index()\n",
    "    .groupby([\"topk\"])\n",
    "    .mean()[[\"hr\", \"mrr\", \"ndcg\"]]\n",
    ")\n",
    "\n",
    "test_results"
   ]
  },
  {
   "cell_type": "code",
   "execution_count": 6,
   "metadata": {},
   "outputs": [
    {
     "data": {
      "text/html": [
       "<div>\n",
       "<style scoped>\n",
       "    .dataframe tbody tr th:only-of-type {\n",
       "        vertical-align: middle;\n",
       "    }\n",
       "\n",
       "    .dataframe tbody tr th {\n",
       "        vertical-align: top;\n",
       "    }\n",
       "\n",
       "    .dataframe thead th {\n",
       "        text-align: right;\n",
       "    }\n",
       "</style>\n",
       "<table border=\"1\" class=\"dataframe\">\n",
       "  <thead>\n",
       "    <tr style=\"text-align: right;\">\n",
       "      <th>metrics</th>\n",
       "      <th>hr</th>\n",
       "      <th>mrr</th>\n",
       "      <th>ndcg</th>\n",
       "    </tr>\n",
       "    <tr>\n",
       "      <th>topk</th>\n",
       "      <th></th>\n",
       "      <th></th>\n",
       "      <th></th>\n",
       "    </tr>\n",
       "  </thead>\n",
       "  <tbody>\n",
       "    <tr>\n",
       "      <th>1</th>\n",
       "      <td>0.538112</td>\n",
       "      <td>0.538112</td>\n",
       "      <td>0.538112</td>\n",
       "    </tr>\n",
       "    <tr>\n",
       "      <th>3</th>\n",
       "      <td>0.807392</td>\n",
       "      <td>0.659791</td>\n",
       "      <td>0.697827</td>\n",
       "    </tr>\n",
       "    <tr>\n",
       "      <th>5</th>\n",
       "      <td>0.879121</td>\n",
       "      <td>0.676431</td>\n",
       "      <td>0.727587</td>\n",
       "    </tr>\n",
       "  </tbody>\n",
       "</table>\n",
       "</div>"
      ],
      "text/plain": [
       "metrics        hr       mrr      ndcg\n",
       "topk                                 \n",
       "1        0.538112  0.538112  0.538112\n",
       "3        0.807392  0.659791  0.697827\n",
       "5        0.879121  0.676431  0.727587"
      ]
     },
     "execution_count": 6,
     "metadata": {},
     "output_type": "execute_result"
    }
   ],
   "source": [
    "def get_scores_generator_4(local_factors, global_factors):\n",
    "    P, eta = local_factors\n",
    "    Q, Qb = global_factors\n",
    "    def generate_scores(uid, sid, sess_items, item_pool):\n",
    "        scores = Q[item_pool] @ Q[sess_items].sum(axis=0)\n",
    "        return scores \n",
    "    return generate_scores\n",
    "\n",
    "up_generate_scores = get_scores_generator_4(local_factors, global_factors)\n",
    "\n",
    "metrics_df, user_stats = evaluate(\n",
    "    up_generate_scores,\n",
    "    process_data.test_sessions,\n",
    "    process_data.seen_interactions,\n",
    ")\n",
    "\n",
    "test_results = (\n",
    "    metrics_df\n",
    "    .reset_index()\n",
    "    .groupby([\"topk\"])\n",
    "    .mean()[[\"hr\", \"mrr\", \"ndcg\"]]\n",
    ")\n",
    "\n",
    "test_results"
   ]
  },
  {
   "cell_type": "code",
   "execution_count": null,
   "metadata": {},
   "outputs": [],
   "source": [
    "assert False"
   ]
  },
  {
   "cell_type": "markdown",
   "metadata": {},
   "source": [
    "# Train the model:"
   ]
  },
  {
   "cell_type": "code",
   "execution_count": 3,
   "metadata": {},
   "outputs": [
    {
     "data": {
      "text/html": [
       "<div><span class=\"Text-label\" style=\"display:inline-block; overflow:hidden; white-space:nowrap; text-overflow:ellipsis; min-width:0; max-width:15ex; vertical-align:middle; text-align:right\"></span>\n",
       "<progress style=\"width:60ex\" max=\"15\" value=\"15\" class=\"Progress-main\"/></progress>\n",
       "<span class=\"Progress-label\"><strong>100%</strong></span>\n",
       "<span class=\"Iteration-label\">15/15</span>\n",
       "<span class=\"Time-label\">[00:08<00:01, 0.53s/it]</span></div>"
      ],
      "text/plain": [
       "\u001b[A\u001b[2K\r [████████████████████████████████████████████████████████████] 15/15 [00:08<00:01, 0.53s/it]"
      ]
     },
     "metadata": {},
     "output_type": "display_data"
    }
   ],
   "source": [
    "smf_callback = evaluation_callback(\n",
    "    get_scores_generator,\n",
    "    process_data.valid_sessions,\n",
    "    process_data.seen_interactions, \n",
    "    factor_names=[\"ULF\", \"CLF\", \"IGF\", \"CGF\"],\n",
    ")\n",
    "\n",
    "n_factors = 256\n",
    "regularization = 0.001\n",
    "gain = 1e-4\n",
    "seed = 13\n",
    "n_iter = 15\n",
    "c0 = 1.0\n",
    "gamma = 1.0\n",
    "\n",
    "Cui = process_data.get_freqs(process_data.train, c0=c0, gamma=gamma)\n",
    "\n",
    "local_factors, global_factors = fit_restricted(\n",
    "    Cui,\n",
    "    uid2Sui,\n",
    "    n_factors,\n",
    "    regularization,\n",
    "    gain,\n",
    "    n_iter=n_iter,\n",
    "    seed=seed,\n",
    "    evaluation_callback=smf_callback,\n",
    "    iterator=irange,\n",
    "    use_eta=True,\n",
    ")"
   ]
  },
  {
   "cell_type": "code",
   "execution_count": 4,
   "metadata": {},
   "outputs": [
    {
     "data": {
      "image/png": "[encoded data removed]",
      "text/plain": [
       "<Figure size 1080x720 with 9 Axes>"
      ]
     },
     "metadata": {
      "needs_background": "light"
     },
     "output_type": "display_data"
    }
   ],
   "source": [
    "plt.rcParams[\"figure.figsize\"] = (15, 10)\n",
    "\n",
    "epochs = np.arange(1, n_iter + 1)\n",
    "stat_metrics = list(smf_callback.stat.keys())[:-1]\n",
    "topk = smf_callback.stat[stat_metrics[0]].keys()\n",
    "\n",
    "fig, axs = plt.subplots(3, 3)\n",
    "fig.suptitle(\"Metrics\", fontsize=20)\n",
    "for i, metric in enumerate(stat_metrics):\n",
    "    for j, k in enumerate(topk):\n",
    "        axs[i, j].plot(epochs, smf_callback.stat[metric][k])\n",
    "        axs[i, j].set_title(f\"{metric}@{k}\")\n",
    "        axs[i, j].grid(True)"
   ]
  },
  {
   "cell_type": "code",
   "execution_count": 5,
   "metadata": {},
   "outputs": [
    {
     "data": {
      "image/png": "[encoded data removed]",
      "text/plain": [
       "<Figure size 1296x288 with 4 Axes>"
      ]
     },
     "metadata": {
      "needs_background": "light"
     },
     "output_type": "display_data"
    }
   ],
   "source": [
    "plt.rcParams[\"figure.figsize\"] = (18, 4)\n",
    "model_metrics = smf_callback.stat[\"norms\"].keys()\n",
    "\n",
    "fig, axs = plt.subplots(1, 4)\n",
    "fig.suptitle(\"Factor norms\", fontsize=20)\n",
    "for j, name in enumerate(model_metrics):\n",
    "    axs[j].plot(epochs, smf_callback.stat[\"norms\"][name])\n",
    "    axs[j].set_title(f\"Norm {name}\")\n",
    "    axs[j].grid(True)"
   ]
  },
  {
   "cell_type": "markdown",
   "metadata": {},
   "source": [
    "# Evaluation:"
   ]
  },
  {
   "cell_type": "markdown",
   "metadata": {},
   "source": [
    "## Long-term + Short-term:"
   ]
  },
  {
   "cell_type": "code",
   "execution_count": 6,
   "metadata": {},
   "outputs": [
    {
     "data": {
      "text/html": [
       "<div>\n",
       "<style scoped>\n",
       "    .dataframe tbody tr th:only-of-type {\n",
       "        vertical-align: middle;\n",
       "    }\n",
       "\n",
       "    .dataframe tbody tr th {\n",
       "        vertical-align: top;\n",
       "    }\n",
       "\n",
       "    .dataframe thead th {\n",
       "        text-align: right;\n",
       "    }\n",
       "</style>\n",
       "<table border=\"1\" class=\"dataframe\">\n",
       "  <thead>\n",
       "    <tr style=\"text-align: right;\">\n",
       "      <th>metrics</th>\n",
       "      <th>hr</th>\n",
       "      <th>mrr</th>\n",
       "      <th>ndcg</th>\n",
       "    </tr>\n",
       "    <tr>\n",
       "      <th>topk</th>\n",
       "      <th></th>\n",
       "      <th></th>\n",
       "      <th></th>\n",
       "    </tr>\n",
       "  </thead>\n",
       "  <tbody>\n",
       "    <tr>\n",
       "      <th>1</th>\n",
       "      <td>0.402657</td>\n",
       "      <td>0.402657</td>\n",
       "      <td>0.402657</td>\n",
       "    </tr>\n",
       "    <tr>\n",
       "      <th>3</th>\n",
       "      <td>0.646238</td>\n",
       "      <td>0.507336</td>\n",
       "      <td>0.542897</td>\n",
       "    </tr>\n",
       "    <tr>\n",
       "      <th>5</th>\n",
       "      <td>0.762958</td>\n",
       "      <td>0.534880</td>\n",
       "      <td>0.591732</td>\n",
       "    </tr>\n",
       "  </tbody>\n",
       "</table>\n",
       "</div>"
      ],
      "text/plain": [
       "metrics        hr       mrr      ndcg\n",
       "topk                                 \n",
       "1        0.402657  0.402657  0.402657\n",
       "3        0.646238  0.507336  0.542897\n",
       "5        0.762958  0.534880  0.591732"
      ]
     },
     "execution_count": 6,
     "metadata": {},
     "output_type": "execute_result"
    }
   ],
   "source": [
    "up_generate_scores = get_scores_generator(local_factors, global_factors)\n",
    "\n",
    "metrics_df, user_stats = evaluate(\n",
    "    up_generate_scores,\n",
    "    process_data.test_sessions,\n",
    "    process_data.seen_interactions,\n",
    ")\n",
    "\n",
    "test_results = (\n",
    "    metrics_df\n",
    "    .reset_index()\n",
    "    .groupby([\"topk\"])\n",
    "    .mean()[[\"hr\", \"mrr\", \"ndcg\"]]\n",
    ")\n",
    "\n",
    "test_results"
   ]
  },
  {
   "cell_type": "markdown",
   "metadata": {},
   "source": [
    "## Only Long-Term:"
   ]
  },
  {
   "cell_type": "code",
   "execution_count": 7,
   "metadata": {},
   "outputs": [
    {
     "data": {
      "text/html": [
       "<div>\n",
       "<style scoped>\n",
       "    .dataframe tbody tr th:only-of-type {\n",
       "        vertical-align: middle;\n",
       "    }\n",
       "\n",
       "    .dataframe tbody tr th {\n",
       "        vertical-align: top;\n",
       "    }\n",
       "\n",
       "    .dataframe thead th {\n",
       "        text-align: right;\n",
       "    }\n",
       "</style>\n",
       "<table border=\"1\" class=\"dataframe\">\n",
       "  <thead>\n",
       "    <tr style=\"text-align: right;\">\n",
       "      <th>metrics</th>\n",
       "      <th>hr</th>\n",
       "      <th>mrr</th>\n",
       "      <th>ndcg</th>\n",
       "    </tr>\n",
       "    <tr>\n",
       "      <th>topk</th>\n",
       "      <th></th>\n",
       "      <th></th>\n",
       "      <th></th>\n",
       "    </tr>\n",
       "  </thead>\n",
       "  <tbody>\n",
       "    <tr>\n",
       "      <th>1</th>\n",
       "      <td>0.402657</td>\n",
       "      <td>0.402657</td>\n",
       "      <td>0.402657</td>\n",
       "    </tr>\n",
       "    <tr>\n",
       "      <th>3</th>\n",
       "      <td>0.646238</td>\n",
       "      <td>0.507336</td>\n",
       "      <td>0.542897</td>\n",
       "    </tr>\n",
       "    <tr>\n",
       "      <th>5</th>\n",
       "      <td>0.762958</td>\n",
       "      <td>0.534898</td>\n",
       "      <td>0.591748</td>\n",
       "    </tr>\n",
       "  </tbody>\n",
       "</table>\n",
       "</div>"
      ],
      "text/plain": [
       "metrics        hr       mrr      ndcg\n",
       "topk                                 \n",
       "1        0.402657  0.402657  0.402657\n",
       "3        0.646238  0.507336  0.542897\n",
       "5        0.762958  0.534898  0.591748"
      ]
     },
     "execution_count": 7,
     "metadata": {},
     "output_type": "execute_result"
    }
   ],
   "source": [
    "def get_scores_generator_1(local_factors, global_factors):\n",
    "    P, eta = local_factors\n",
    "    Q, Qb = global_factors\n",
    "    def generate_scores(uid, sid, sess_items, item_pool):\n",
    "        scores = P[uid] @ Q[item_pool].T\n",
    "        return scores \n",
    "    return generate_scores\n",
    "\n",
    "up_generate_scores = get_scores_generator_1(local_factors, global_factors)\n",
    "\n",
    "metrics_df, user_stats = evaluate(\n",
    "    up_generate_scores,\n",
    "    process_data.test_sessions,\n",
    "    process_data.seen_interactions,\n",
    ")\n",
    "\n",
    "test_results = (\n",
    "    metrics_df\n",
    "    .reset_index()\n",
    "    .groupby([\"topk\"])\n",
    "    .mean()[[\"hr\", \"mrr\", \"ndcg\"]]\n",
    ")\n",
    "\n",
    "test_results"
   ]
  },
  {
   "cell_type": "markdown",
   "metadata": {},
   "source": [
    "## Only Short-Term:"
   ]
  },
  {
   "cell_type": "code",
   "execution_count": 8,
   "metadata": {},
   "outputs": [
    {
     "data": {
      "text/html": [
       "<div>\n",
       "<style scoped>\n",
       "    .dataframe tbody tr th:only-of-type {\n",
       "        vertical-align: middle;\n",
       "    }\n",
       "\n",
       "    .dataframe tbody tr th {\n",
       "        vertical-align: top;\n",
       "    }\n",
       "\n",
       "    .dataframe thead th {\n",
       "        text-align: right;\n",
       "    }\n",
       "</style>\n",
       "<table border=\"1\" class=\"dataframe\">\n",
       "  <thead>\n",
       "    <tr style=\"text-align: right;\">\n",
       "      <th>metrics</th>\n",
       "      <th>hr</th>\n",
       "      <th>mrr</th>\n",
       "      <th>ndcg</th>\n",
       "    </tr>\n",
       "    <tr>\n",
       "      <th>topk</th>\n",
       "      <th></th>\n",
       "      <th></th>\n",
       "      <th></th>\n",
       "    </tr>\n",
       "  </thead>\n",
       "  <tbody>\n",
       "    <tr>\n",
       "      <th>1</th>\n",
       "      <td>0.154825</td>\n",
       "      <td>0.154825</td>\n",
       "      <td>0.154825</td>\n",
       "    </tr>\n",
       "    <tr>\n",
       "      <th>3</th>\n",
       "      <td>0.328013</td>\n",
       "      <td>0.233809</td>\n",
       "      <td>0.258116</td>\n",
       "    </tr>\n",
       "    <tr>\n",
       "      <th>5</th>\n",
       "      <td>0.422940</td>\n",
       "      <td>0.255696</td>\n",
       "      <td>0.297382</td>\n",
       "    </tr>\n",
       "  </tbody>\n",
       "</table>\n",
       "</div>"
      ],
      "text/plain": [
       "metrics        hr       mrr      ndcg\n",
       "topk                                 \n",
       "1        0.154825  0.154825  0.154825\n",
       "3        0.328013  0.233809  0.258116\n",
       "5        0.422940  0.255696  0.297382"
      ]
     },
     "execution_count": 8,
     "metadata": {},
     "output_type": "execute_result"
    }
   ],
   "source": [
    "def get_scores_generator_2(local_factors, global_factors):\n",
    "    P, eta = local_factors\n",
    "    Q, Qb = global_factors\n",
    "    def generate_scores(uid, sid, sess_items, item_pool):\n",
    "        scores = Qb[sess_items[-1]] @ Q[item_pool].T\n",
    "        return scores \n",
    "    return generate_scores\n",
    "\n",
    "up_generate_scores = get_scores_generator_2(local_factors, global_factors)\n",
    "\n",
    "metrics_df, user_stats = evaluate(\n",
    "    up_generate_scores,\n",
    "    process_data.test_sessions,\n",
    "    process_data.seen_interactions,\n",
    ")\n",
    "\n",
    "test_results = (\n",
    "    metrics_df\n",
    "    .reset_index()\n",
    "    .groupby([\"topk\"])\n",
    "    .mean()[[\"hr\", \"mrr\", \"ndcg\"]]\n",
    ")\n",
    "\n",
    "test_results"
   ]
  },
  {
   "cell_type": "markdown",
   "metadata": {},
   "source": [
    "## Like in SVD:"
   ]
  },
  {
   "cell_type": "code",
   "execution_count": 9,
   "metadata": {},
   "outputs": [
    {
     "data": {
      "text/html": [
       "<div>\n",
       "<style scoped>\n",
       "    .dataframe tbody tr th:only-of-type {\n",
       "        vertical-align: middle;\n",
       "    }\n",
       "\n",
       "    .dataframe tbody tr th {\n",
       "        vertical-align: top;\n",
       "    }\n",
       "\n",
       "    .dataframe thead th {\n",
       "        text-align: right;\n",
       "    }\n",
       "</style>\n",
       "<table border=\"1\" class=\"dataframe\">\n",
       "  <thead>\n",
       "    <tr style=\"text-align: right;\">\n",
       "      <th>metrics</th>\n",
       "      <th>hr</th>\n",
       "      <th>mrr</th>\n",
       "      <th>ndcg</th>\n",
       "    </tr>\n",
       "    <tr>\n",
       "      <th>topk</th>\n",
       "      <th></th>\n",
       "      <th></th>\n",
       "      <th></th>\n",
       "    </tr>\n",
       "  </thead>\n",
       "  <tbody>\n",
       "    <tr>\n",
       "      <th>1</th>\n",
       "      <td>0.546542</td>\n",
       "      <td>0.546542</td>\n",
       "      <td>0.546542</td>\n",
       "    </tr>\n",
       "    <tr>\n",
       "      <th>3</th>\n",
       "      <td>0.827861</td>\n",
       "      <td>0.673823</td>\n",
       "      <td>0.713525</td>\n",
       "    </tr>\n",
       "    <tr>\n",
       "      <th>5</th>\n",
       "      <td>0.890445</td>\n",
       "      <td>0.688328</td>\n",
       "      <td>0.739478</td>\n",
       "    </tr>\n",
       "  </tbody>\n",
       "</table>\n",
       "</div>"
      ],
      "text/plain": [
       "metrics        hr       mrr      ndcg\n",
       "topk                                 \n",
       "1        0.546542  0.546542  0.546542\n",
       "3        0.827861  0.673823  0.713525\n",
       "5        0.890445  0.688328  0.739478"
      ]
     },
     "execution_count": 9,
     "metadata": {},
     "output_type": "execute_result"
    }
   ],
   "source": [
    "def get_scores_generator_4(local_factors, global_factors):\n",
    "    P, eta = local_factors\n",
    "    Q, Qb = global_factors\n",
    "    def generate_scores(uid, sid, sess_items, item_pool):\n",
    "        scores = Q[item_pool] @ Q[sess_items].sum(axis=0)\n",
    "        return scores \n",
    "    return generate_scores\n",
    "\n",
    "up_generate_scores = get_scores_generator_4(local_factors, global_factors)\n",
    "\n",
    "metrics_df, user_stats = evaluate(\n",
    "    up_generate_scores,\n",
    "    process_data.test_sessions,\n",
    "    process_data.seen_interactions,\n",
    ")\n",
    "\n",
    "test_results = (\n",
    "    metrics_df\n",
    "    .reset_index()\n",
    "    .groupby([\"topk\"])\n",
    "    .mean()[[\"hr\", \"mrr\", \"ndcg\"]]\n",
    ")\n",
    "\n",
    "test_results"
   ]
  },
  {
   "cell_type": "markdown",
   "metadata": {},
   "source": [
    "## Only Q and last one from session:"
   ]
  },
  {
   "cell_type": "code",
   "execution_count": 10,
   "metadata": {},
   "outputs": [
    {
     "data": {
      "text/html": [
       "<div>\n",
       "<style scoped>\n",
       "    .dataframe tbody tr th:only-of-type {\n",
       "        vertical-align: middle;\n",
       "    }\n",
       "\n",
       "    .dataframe tbody tr th {\n",
       "        vertical-align: top;\n",
       "    }\n",
       "\n",
       "    .dataframe thead th {\n",
       "        text-align: right;\n",
       "    }\n",
       "</style>\n",
       "<table border=\"1\" class=\"dataframe\">\n",
       "  <thead>\n",
       "    <tr style=\"text-align: right;\">\n",
       "      <th>metrics</th>\n",
       "      <th>hr</th>\n",
       "      <th>mrr</th>\n",
       "      <th>ndcg</th>\n",
       "    </tr>\n",
       "    <tr>\n",
       "      <th>topk</th>\n",
       "      <th></th>\n",
       "      <th></th>\n",
       "      <th></th>\n",
       "    </tr>\n",
       "  </thead>\n",
       "  <tbody>\n",
       "    <tr>\n",
       "      <th>1</th>\n",
       "      <td>0.616732</td>\n",
       "      <td>0.616732</td>\n",
       "      <td>0.616732</td>\n",
       "    </tr>\n",
       "    <tr>\n",
       "      <th>3</th>\n",
       "      <td>0.719164</td>\n",
       "      <td>0.661294</td>\n",
       "      <td>0.676132</td>\n",
       "    </tr>\n",
       "    <tr>\n",
       "      <th>5</th>\n",
       "      <td>0.794454</td>\n",
       "      <td>0.678716</td>\n",
       "      <td>0.707330</td>\n",
       "    </tr>\n",
       "  </tbody>\n",
       "</table>\n",
       "</div>"
      ],
      "text/plain": [
       "metrics        hr       mrr      ndcg\n",
       "topk                                 \n",
       "1        0.616732  0.616732  0.616732\n",
       "3        0.719164  0.661294  0.676132\n",
       "5        0.794454  0.678716  0.707330"
      ]
     },
     "execution_count": 10,
     "metadata": {},
     "output_type": "execute_result"
    }
   ],
   "source": [
    "def get_scores_generator_3(local_factors, global_factors):\n",
    "    P, eta = local_factors\n",
    "    Q, Qb = global_factors\n",
    "    def generate_scores(uid, sid, sess_items, item_pool):\n",
    "        scores = Q[item_pool] @ Q[sess_items[-1]]\n",
    "        return scores \n",
    "    return generate_scores\n",
    "\n",
    "up_generate_scores = get_scores_generator_3(local_factors, global_factors)\n",
    "\n",
    "metrics_df, user_stats = evaluate(\n",
    "    up_generate_scores,\n",
    "    process_data.test_sessions,\n",
    "    process_data.seen_interactions,\n",
    ")\n",
    "\n",
    "test_results = (\n",
    "    metrics_df\n",
    "    .reset_index()\n",
    "    .groupby([\"topk\"])\n",
    "    .mean()[[\"hr\", \"mrr\", \"ndcg\"]]\n",
    ")\n",
    "\n",
    "test_results"
   ]
  },
  {
   "cell_type": "code",
   "execution_count": 11,
   "metadata": {},
   "outputs": [],
   "source": [
    "def get_scores_generator_5(local_factors, global_factors):\n",
    "    P, eta = local_factors\n",
    "    Q, Qb = global_factors\n",
    "    par = 1\n",
    "    if eta is not None:\n",
    "        def generate_scores(uid, sid, sess_items, item_pool):\n",
    "            k_back = min(len(sess_items), par) \n",
    "            scores = Q[item_pool] @ (P[uid] + eta[uid] * Qb[sess_items[:]].sum(axis=0))\n",
    "            return scores\n",
    "        return generate_scores\n",
    "\n",
    "    def generate_scores(uid, sid, sess_items, item_pool):\n",
    "        k_back = min(len(sess_items), par) \n",
    "        scores = Q[item_pool] @ (P[uid] + Qb[sess_items[-k_back:]].sum(axis=0))\n",
    "        return scores\n",
    "    return generate_scores"
   ]
  },
  {
   "cell_type": "code",
   "execution_count": 12,
   "metadata": {},
   "outputs": [
    {
     "data": {
      "text/html": [
       "<div>\n",
       "<style scoped>\n",
       "    .dataframe tbody tr th:only-of-type {\n",
       "        vertical-align: middle;\n",
       "    }\n",
       "\n",
       "    .dataframe tbody tr th {\n",
       "        vertical-align: top;\n",
       "    }\n",
       "\n",
       "    .dataframe thead th {\n",
       "        text-align: right;\n",
       "    }\n",
       "</style>\n",
       "<table border=\"1\" class=\"dataframe\">\n",
       "  <thead>\n",
       "    <tr style=\"text-align: right;\">\n",
       "      <th>metrics</th>\n",
       "      <th>hr</th>\n",
       "      <th>mrr</th>\n",
       "      <th>ndcg</th>\n",
       "    </tr>\n",
       "    <tr>\n",
       "      <th>topk</th>\n",
       "      <th></th>\n",
       "      <th></th>\n",
       "      <th></th>\n",
       "    </tr>\n",
       "  </thead>\n",
       "  <tbody>\n",
       "    <tr>\n",
       "      <th>1</th>\n",
       "      <td>0.400761</td>\n",
       "      <td>0.400761</td>\n",
       "      <td>0.400761</td>\n",
       "    </tr>\n",
       "    <tr>\n",
       "      <th>3</th>\n",
       "      <td>0.645818</td>\n",
       "      <td>0.504612</td>\n",
       "      <td>0.540702</td>\n",
       "    </tr>\n",
       "    <tr>\n",
       "      <th>5</th>\n",
       "      <td>0.763005</td>\n",
       "      <td>0.532226</td>\n",
       "      <td>0.589697</td>\n",
       "    </tr>\n",
       "  </tbody>\n",
       "</table>\n",
       "</div>"
      ],
      "text/plain": [
       "metrics        hr       mrr      ndcg\n",
       "topk                                 \n",
       "1        0.400761  0.400761  0.400761\n",
       "3        0.645818  0.504612  0.540702\n",
       "5        0.763005  0.532226  0.589697"
      ]
     },
     "execution_count": 12,
     "metadata": {},
     "output_type": "execute_result"
    }
   ],
   "source": [
    "up_generate_scores = get_scores_generator_5(local_factors, global_factors)\n",
    "\n",
    "metrics_df, user_stats = evaluate(\n",
    "    up_generate_scores,\n",
    "    process_data.test_sessions,\n",
    "    process_data.seen_interactions,\n",
    ")\n",
    "\n",
    "test_results = (\n",
    "    metrics_df\n",
    "    .reset_index()\n",
    "    .groupby([\"topk\"])\n",
    "    .mean()[[\"hr\", \"mrr\", \"ndcg\"]]\n",
    ")\n",
    "\n",
    "test_results"
   ]
  }
 ],
 "metadata": {
  "interpreter": {
   "hash": "916dbcbb3f70747c44a77c7bcd40155683ae19c65e1c03b4aa3499c5328201f1"
  },
  "kernelspec": {
   "display_name": "Python 3.9.5 64-bit",
   "name": "python3"
  },
  "language_info": {
   "codemirror_mode": {
    "name": "ipython",
    "version": 3
   },
   "file_extension": ".py",
   "mimetype": "text/x-python",
   "name": "python",
   "nbconvert_exporter": "python",
   "pygments_lexer": "ipython3",
   "version": "3.9.5"
  },
  "orig_nbformat": 4
 },
 "nbformat": 4,
 "nbformat_minor": 2
}
