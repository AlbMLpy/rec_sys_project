{
 "cells": [
  {
   "cell_type": "code",
   "execution_count": 1,
   "metadata": {},
   "outputs": [],
   "source": [
    "import pandas as pd\n",
    "from datetime import datetime"
   ]
  },
  {
   "cell_type": "markdown",
   "metadata": {},
   "source": [
    "## Load the data:"
   ]
  },
  {
   "cell_type": "code",
   "execution_count": 2,
   "metadata": {},
   "outputs": [
    {
     "name": "stdout",
     "output_type": "stream",
     "text": [
      "--2022-03-23 14:32:26--  https://github.com/aliannejadi/LSApp/raw/main/lsapp.tsv.gz\n",
      "Resolving github.com (github.com)... 140.82.121.4\n",
      "Connecting to github.com (github.com)|140.82.121.4|:443... connected.\n",
      "HTTP request sent, awaiting response... 302 Found\n",
      "Location: https://raw.githubusercontent.com/aliannejadi/LSApp/main/lsapp.tsv.gz [following]\n",
      "--2022-03-23 14:32:26--  https://raw.githubusercontent.com/aliannejadi/LSApp/main/lsapp.tsv.gz\n",
      "Resolving raw.githubusercontent.com (raw.githubusercontent.com)... 2606:50c0:8003::154, 2606:50c0:8001::154, 2606:50c0:8000::154, ...\n",
      "Connecting to raw.githubusercontent.com (raw.githubusercontent.com)|2606:50c0:8003::154|:443... failed: Network is unreachable.\n",
      "Connecting to raw.githubusercontent.com (raw.githubusercontent.com)|2606:50c0:8001::154|:443... failed: Network is unreachable.\n",
      "Connecting to raw.githubusercontent.com (raw.githubusercontent.com)|2606:50c0:8000::154|:443... failed: Network is unreachable.\n",
      "Connecting to raw.githubusercontent.com (raw.githubusercontent.com)|2606:50c0:8002::154|:443... failed: Network is unreachable.\n",
      "Connecting to raw.githubusercontent.com (raw.githubusercontent.com)|185.199.111.133|:443... connected.\n",
      "HTTP request sent, awaiting response... 200 OK\n",
      "Length: 7329439 (7,0M) [application/octet-stream]\n",
      "Saving to: ‘lsapp.tsv.gz’\n",
      "\n",
      "lsapp.tsv.gz        100%[===================>]   6,99M  19,6MB/s    in 0,4s    \n",
      "\n",
      "2022-03-23 14:32:30 (19,6 MB/s) - ‘lsapp.tsv.gz’ saved [7329439/7329439]\n",
      "\n"
     ]
    }
   ],
   "source": [
    "!wget https://github.com/aliannejadi/LSApp/raw/main/lsapp.tsv.gz"
   ]
  },
  {
   "cell_type": "code",
   "execution_count": 3,
   "metadata": {},
   "outputs": [],
   "source": [
    "df = pd.read_csv('lsapp.tsv.gz', sep='\\t')\n",
    "df.loc[:,'timestamp'] = pd.to_datetime(df['timestamp'])\n",
    "df = df.rename(columns={'lsapp.tsv': 'user_id'})\n",
    "df_open = df.loc[df['event_type'] == 'Opened']"
   ]
  },
  {
   "cell_type": "markdown",
   "metadata": {},
   "source": [
    "## Prepare for DataProcessor:"
   ]
  },
  {
   "cell_type": "code",
   "execution_count": 4,
   "metadata": {},
   "outputs": [
    {
     "name": "stderr",
     "output_type": "stream",
     "text": [
      "/home/albert/.local/lib/python3.9/site-packages/pandas/core/generic.py:5516: SettingWithCopyWarning: \n",
      "A value is trying to be set on a copy of a slice from a DataFrame.\n",
      "Try using .loc[row_indexer,col_indexer] = value instead\n",
      "\n",
      "See the caveats in the documentation: https://pandas.pydata.org/pandas-docs/stable/user_guide/indexing.html#returning-a-view-versus-a-copy\n",
      "  self[name] = value\n"
     ]
    }
   ],
   "source": [
    "df_open = df_open.dropna()\n",
    "uniq_apps = list(df_open[\"app_name\"].unique())\n",
    "app2id = dict(zip(uniq_apps, range(len(uniq_apps))))\n",
    "df_open[\"appid\"] = df_open[\"app_name\"].apply(lambda x: app2id[x])\n",
    "df_open[\"userid\"] = df_open[\"user_id\"].astype(int)\n",
    "out = df_open[[\"userid\", \"appid\", \"timestamp\", \"app_name\"]]\n",
    "out.timestamp = out.timestamp.apply(lambda x: '{:%Y%m%d%H%M%S}'.format(datetime.strptime(str(x), '%Y-%m-%d %H:%M:%S')))\n",
    "out = out.reset_index(drop=True)\n",
    "out.to_csv(\"lsapp.csv\", index=False, sep=' ', header=False)"
   ]
  },
  {
   "cell_type": "code",
   "execution_count": 5,
   "metadata": {},
   "outputs": [],
   "source": [
    "!rm lsapp.tsv.gz"
   ]
  }
 ],
 "metadata": {
  "kernelspec": {
   "display_name": "Python 3",
   "language": "python",
   "name": "python3"
  },
  "language_info": {
   "codemirror_mode": {
    "name": "ipython",
    "version": 3
   },
   "file_extension": ".py",
   "mimetype": "text/x-python",
   "name": "python",
   "nbconvert_exporter": "python",
   "pygments_lexer": "ipython3",
   "version": "3.9.5"
  }
 },
 "nbformat": 4,
 "nbformat_minor": 2
}
