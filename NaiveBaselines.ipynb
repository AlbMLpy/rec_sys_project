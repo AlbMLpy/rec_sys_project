{
 "cells": [
  {
   "cell_type": "code",
   "execution_count": 1,
   "metadata": {},
   "outputs": [],
   "source": [
    "import numpy as np\n",
    "import pandas as pd\n",
    "from DataProcessor import DataProcessor\n",
    "from evaluation import evaluate\n",
    "from lib import index"
   ]
  },
  {
   "cell_type": "code",
   "execution_count": 2,
   "metadata": {},
   "outputs": [
    {
     "name": "stdout",
     "output_type": "stream",
     "text": [
      "lsapp.csv\n"
     ]
    }
   ],
   "source": [
    "data_file_name = \"lsapp.csv\"\n",
    "if data_file_name == \"lsapp.csv\":\n",
    "    process_data = DataProcessor(\n",
    "        \"lsapp.csv\",\n",
    "        column_names='userid,appid,timestamp',\n",
    "        session_break_delta='15min',\n",
    "    )\n",
    "    process_data.prepare_data(\n",
    "        usecols=['userid', 'appid', 'timestamp'],\n",
    "        test_interval='14d',\n",
    "        valid_interval='7d',\n",
    "        min_sess_length=2,\n",
    "        window=\"3s\",\n",
    "    )\n",
    "    # Define global weighting matrix\n",
    "    Cui = process_data.get_freqs(process_data.train, c0=1, gamma=1)\n",
    "\n",
    "    # Define user-contex matrix:\n",
    "    Sus_dict = process_data.get_users_sui(process_data.train, level='sessid')\n",
    "    Sus_dict = pd.Series(Sus_dict)\n",
    "    print(data_file_name)\n",
    "else:\n",
    "    assert False, \"Stop here\"\n"
   ]
  },
  {
   "cell_type": "code",
   "execution_count": 3,
   "metadata": {},
   "outputs": [],
   "source": [
    "class ZeroScore:\n",
    "    def generate_scores(self, uid, sid, sess_items, item_pool):\n",
    "        return np.zeros_like(item_pool)\n",
    "\n",
    "class RandomGuess:\n",
    "    def __init__(self, seed=None):\n",
    "        self.random_state = np.random.RandomState(seed)\n",
    "\n",
    "    def generate_scores(self, uid, sid, sess_items, item_pool):\n",
    "        scores = self.random_state.rand(len(item_pool))\n",
    "        return scores\n",
    "\n",
    "class MostRecentlyUsed:\n",
    "    def generate_scores(self, uid, sid, sess_items, item_pool):\n",
    "        \"\"\"\n",
    "        `item_pool` may have more items than there're in `sess_items`,\n",
    "        but it's not possible to generate more than |sess_items| scores,\n",
    "        hence, all other items in `item_pool` are assigned with random score\n",
    "        \"\"\"\n",
    "        scores = np.zeros(len(item_pool))\n",
    "        for i, item in enumerate(sess_items):\n",
    "            item_pos = index(item_pool, item)\n",
    "            if item_pos is not None:\n",
    "                scores[item_pos] = i+1\n",
    "        return scores\n",
    "\n",
    "class MostFrequentlyUsed:\n",
    "    def __init__(self, userid='userid', itemid='appid'):\n",
    "        self.userid = userid\n",
    "        self.itemid = itemid\n",
    "        self.frequencies = None\n",
    "\n",
    "    def fit(self, train):\n",
    "        self.frequencies = (\n",
    "            train\n",
    "            .groupby(self.userid)\n",
    "            [self.itemid]\n",
    "            .value_counts(sort=False)\n",
    "            .sort_index()\n",
    "        )\n",
    "\n",
    "    def generate_scores(self, uid, sid, sess_items, item_pool):\n",
    "        idx = pd.MultiIndex.from_product([[uid], item_pool])\n",
    "        scores = self.frequencies.reindex(idx, fill_value=-1).values\n",
    "        return scores\n",
    "\n",
    "class MarkovianI2I:\n",
    "    def __init__(self, group_key='sessid_global', itemid='appid'):\n",
    "        self.group_key = group_key\n",
    "        self.itemid = itemid\n",
    "        self.transitions = None\n",
    "\n",
    "    def fit(self, train):\n",
    "        source_items = train.groupby(self.group_key)[self.itemid].shift(fill_value=-1)\n",
    "        dest_items = train[self.itemid]\n",
    "        self.transitions = dest_items.groupby(source_items).value_counts(sort=False)\n",
    "\n",
    "    def generate_scores(self, uid, sid, sess_items, item_pool):\n",
    "        idx = pd.MultiIndex.from_product([[sess_items[-1]], item_pool])\n",
    "        scores = self.transitions.reindex(idx, fill_value=-1).values\n",
    "        return scores\n",
    "\n",
    "class OnDeviceMarkovianI2I:\n",
    "    def __init__(self, group_key='sessid_global', userid='userid', itemid='appid'):\n",
    "        self.group_key = group_key\n",
    "        self.userid = userid\n",
    "        self.itemid = itemid\n",
    "        self.transitions = None\n",
    "\n",
    "    def fit(self, train):\n",
    "        source_items = train.groupby(self.group_key)[self.itemid].shift(fill_value=-1)\n",
    "        dest_items = train[self.itemid]\n",
    "        self.transitions = dest_items.groupby([train[self.userid], source_items]).value_counts(sort=False)\n",
    "\n",
    "    def generate_scores(self, uid, sid, sess_items, item_pool):\n",
    "        user_transitions = self.transitions.loc[uid]\n",
    "        idx = pd.MultiIndex.from_product([[sess_items[-1]], item_pool])\n",
    "        scores = user_transitions.reindex(idx, fill_value=-1).values\n",
    "        return scores"
   ]
  },
  {
   "cell_type": "code",
   "execution_count": 4,
   "metadata": {},
   "outputs": [],
   "source": [
    "zrs = ZeroScore()\n",
    "rnd = RandomGuess(seed=42)\n",
    "\n",
    "mfu = MostFrequentlyUsed()\n",
    "mfu.fit(process_data.train)\n",
    "\n",
    "mru = MostRecentlyUsed()\n",
    "\n",
    "i2i_ub = MarkovianI2I(group_key='userid')\n",
    "i2i_ub.fit(process_data.train)\n",
    "\n",
    "i2i_sb = MarkovianI2I(group_key='sessid_global')\n",
    "i2i_sb.fit(process_data.train)\n",
    "\n",
    "i2i_od_ub = OnDeviceMarkovianI2I(group_key='userid')\n",
    "i2i_od_ub.fit(process_data.train)\n",
    "\n",
    "i2i_od_sb = OnDeviceMarkovianI2I(group_key='sessid_global')\n",
    "i2i_od_sb.fit(process_data.train)"
   ]
  },
  {
   "cell_type": "code",
   "execution_count": 5,
   "metadata": {},
   "outputs": [],
   "source": [
    "data_args = (process_data.valid_sessions, process_data.seen_interactions)"
   ]
  },
  {
   "cell_type": "code",
   "execution_count": 6,
   "metadata": {},
   "outputs": [],
   "source": [
    "i2i_od_ub_metrics, i2i_od_ub_stats = evaluate(i2i_od_ub.generate_scores, *data_args)\n",
    "i2i_od_sb_metrics, i2i_od_sb_stats = evaluate(i2i_od_sb.generate_scores, *data_args)"
   ]
  },
  {
   "cell_type": "code",
   "execution_count": 7,
   "metadata": {},
   "outputs": [],
   "source": [
    "i2i_ub_metrics, i2i_ub_stats = evaluate(i2i_ub.generate_scores, *data_args)\n",
    "i2i_sb_metrics, i2i_sb_stats = evaluate(i2i_sb.generate_scores, *data_args)"
   ]
  },
  {
   "cell_type": "code",
   "execution_count": 8,
   "metadata": {},
   "outputs": [],
   "source": [
    "mfu_metrics, mfu_stats = evaluate(mfu.generate_scores, *data_args)\n",
    "mru_metrics, mru_stats = evaluate(mru.generate_scores, *data_args)\n",
    "rnd_metrics, rnd_stats = evaluate(rnd.generate_scores, *data_args)\n",
    "zrs_metrics, zrs_stats = evaluate(zrs.generate_scores, *data_args)"
   ]
  },
  {
   "cell_type": "markdown",
   "metadata": {},
   "source": [
    "# I2I models"
   ]
  },
  {
   "cell_type": "code",
   "execution_count": 9,
   "metadata": {},
   "outputs": [
    {
     "data": {
      "text/html": [
       "<div>\n",
       "<style scoped>\n",
       "    .dataframe tbody tr th:only-of-type {\n",
       "        vertical-align: middle;\n",
       "    }\n",
       "\n",
       "    .dataframe tbody tr th {\n",
       "        vertical-align: top;\n",
       "    }\n",
       "\n",
       "    .dataframe thead th {\n",
       "        text-align: right;\n",
       "    }\n",
       "</style>\n",
       "<table border=\"1\" class=\"dataframe\">\n",
       "  <thead>\n",
       "    <tr style=\"text-align: right;\">\n",
       "      <th>metrics</th>\n",
       "      <th>hr</th>\n",
       "      <th>mrr</th>\n",
       "      <th>ndcg</th>\n",
       "    </tr>\n",
       "    <tr>\n",
       "      <th>topk</th>\n",
       "      <th></th>\n",
       "      <th></th>\n",
       "      <th></th>\n",
       "    </tr>\n",
       "  </thead>\n",
       "  <tbody>\n",
       "    <tr>\n",
       "      <th>1</th>\n",
       "      <td>0.579786</td>\n",
       "      <td>0.579786</td>\n",
       "      <td>0.579786</td>\n",
       "    </tr>\n",
       "    <tr>\n",
       "      <th>3</th>\n",
       "      <td>0.791206</td>\n",
       "      <td>0.674434</td>\n",
       "      <td>0.704487</td>\n",
       "    </tr>\n",
       "    <tr>\n",
       "      <th>5</th>\n",
       "      <td>0.875706</td>\n",
       "      <td>0.694360</td>\n",
       "      <td>0.739829</td>\n",
       "    </tr>\n",
       "  </tbody>\n",
       "</table>\n",
       "</div>"
      ],
      "text/plain": [
       "metrics        hr       mrr      ndcg\n",
       "topk                                 \n",
       "1        0.579786  0.579786  0.579786\n",
       "3        0.791206  0.674434  0.704487\n",
       "5        0.875706  0.694360  0.739829"
      ]
     },
     "execution_count": 9,
     "metadata": {},
     "output_type": "execute_result"
    }
   ],
   "source": [
    "i2i_od_sb_metrics.groupby(level='topk').mean()"
   ]
  },
  {
   "cell_type": "code",
   "execution_count": 10,
   "metadata": {},
   "outputs": [
    {
     "data": {
      "text/html": [
       "<div>\n",
       "<style scoped>\n",
       "    .dataframe tbody tr th:only-of-type {\n",
       "        vertical-align: middle;\n",
       "    }\n",
       "\n",
       "    .dataframe tbody tr th {\n",
       "        vertical-align: top;\n",
       "    }\n",
       "\n",
       "    .dataframe thead th {\n",
       "        text-align: right;\n",
       "    }\n",
       "</style>\n",
       "<table border=\"1\" class=\"dataframe\">\n",
       "  <thead>\n",
       "    <tr style=\"text-align: right;\">\n",
       "      <th>metrics</th>\n",
       "      <th>hr</th>\n",
       "      <th>mrr</th>\n",
       "      <th>ndcg</th>\n",
       "    </tr>\n",
       "    <tr>\n",
       "      <th>topk</th>\n",
       "      <th></th>\n",
       "      <th></th>\n",
       "      <th></th>\n",
       "    </tr>\n",
       "  </thead>\n",
       "  <tbody>\n",
       "    <tr>\n",
       "      <th>1</th>\n",
       "      <td>0.567783</td>\n",
       "      <td>0.567783</td>\n",
       "      <td>0.567783</td>\n",
       "    </tr>\n",
       "    <tr>\n",
       "      <th>3</th>\n",
       "      <td>0.793180</td>\n",
       "      <td>0.666956</td>\n",
       "      <td>0.699367</td>\n",
       "    </tr>\n",
       "    <tr>\n",
       "      <th>5</th>\n",
       "      <td>0.880679</td>\n",
       "      <td>0.687667</td>\n",
       "      <td>0.736031</td>\n",
       "    </tr>\n",
       "  </tbody>\n",
       "</table>\n",
       "</div>"
      ],
      "text/plain": [
       "metrics        hr       mrr      ndcg\n",
       "topk                                 \n",
       "1        0.567783  0.567783  0.567783\n",
       "3        0.793180  0.666956  0.699367\n",
       "5        0.880679  0.687667  0.736031"
      ]
     },
     "execution_count": 10,
     "metadata": {},
     "output_type": "execute_result"
    }
   ],
   "source": [
    "i2i_od_ub_metrics.groupby(level='topk').mean()"
   ]
  },
  {
   "cell_type": "code",
   "execution_count": 11,
   "metadata": {},
   "outputs": [
    {
     "data": {
      "text/html": [
       "<div>\n",
       "<style scoped>\n",
       "    .dataframe tbody tr th:only-of-type {\n",
       "        vertical-align: middle;\n",
       "    }\n",
       "\n",
       "    .dataframe tbody tr th {\n",
       "        vertical-align: top;\n",
       "    }\n",
       "\n",
       "    .dataframe thead th {\n",
       "        text-align: right;\n",
       "    }\n",
       "</style>\n",
       "<table border=\"1\" class=\"dataframe\">\n",
       "  <thead>\n",
       "    <tr style=\"text-align: right;\">\n",
       "      <th>metrics</th>\n",
       "      <th>hr</th>\n",
       "      <th>mrr</th>\n",
       "      <th>ndcg</th>\n",
       "    </tr>\n",
       "    <tr>\n",
       "      <th>topk</th>\n",
       "      <th></th>\n",
       "      <th></th>\n",
       "      <th></th>\n",
       "    </tr>\n",
       "  </thead>\n",
       "  <tbody>\n",
       "    <tr>\n",
       "      <th>1</th>\n",
       "      <td>0.586045</td>\n",
       "      <td>0.586045</td>\n",
       "      <td>0.586045</td>\n",
       "    </tr>\n",
       "    <tr>\n",
       "      <th>3</th>\n",
       "      <td>0.793623</td>\n",
       "      <td>0.678397</td>\n",
       "      <td>0.708027</td>\n",
       "    </tr>\n",
       "    <tr>\n",
       "      <th>5</th>\n",
       "      <td>0.862847</td>\n",
       "      <td>0.694234</td>\n",
       "      <td>0.736553</td>\n",
       "    </tr>\n",
       "  </tbody>\n",
       "</table>\n",
       "</div>"
      ],
      "text/plain": [
       "metrics        hr       mrr      ndcg\n",
       "topk                                 \n",
       "1        0.586045  0.586045  0.586045\n",
       "3        0.793623  0.678397  0.708027\n",
       "5        0.862847  0.694234  0.736553"
      ]
     },
     "execution_count": 11,
     "metadata": {},
     "output_type": "execute_result"
    }
   ],
   "source": [
    "i2i_ub_metrics.groupby(level='topk').mean()"
   ]
  },
  {
   "cell_type": "code",
   "execution_count": 12,
   "metadata": {},
   "outputs": [
    {
     "data": {
      "text/html": [
       "<div>\n",
       "<style scoped>\n",
       "    .dataframe tbody tr th:only-of-type {\n",
       "        vertical-align: middle;\n",
       "    }\n",
       "\n",
       "    .dataframe tbody tr th {\n",
       "        vertical-align: top;\n",
       "    }\n",
       "\n",
       "    .dataframe thead th {\n",
       "        text-align: right;\n",
       "    }\n",
       "</style>\n",
       "<table border=\"1\" class=\"dataframe\">\n",
       "  <thead>\n",
       "    <tr style=\"text-align: right;\">\n",
       "      <th>metrics</th>\n",
       "      <th>hr</th>\n",
       "      <th>mrr</th>\n",
       "      <th>ndcg</th>\n",
       "    </tr>\n",
       "    <tr>\n",
       "      <th>topk</th>\n",
       "      <th></th>\n",
       "      <th></th>\n",
       "      <th></th>\n",
       "    </tr>\n",
       "  </thead>\n",
       "  <tbody>\n",
       "    <tr>\n",
       "      <th>1</th>\n",
       "      <td>0.586039</td>\n",
       "      <td>0.586039</td>\n",
       "      <td>0.586039</td>\n",
       "    </tr>\n",
       "    <tr>\n",
       "      <th>3</th>\n",
       "      <td>0.792124</td>\n",
       "      <td>0.678053</td>\n",
       "      <td>0.707400</td>\n",
       "    </tr>\n",
       "    <tr>\n",
       "      <th>5</th>\n",
       "      <td>0.861034</td>\n",
       "      <td>0.693864</td>\n",
       "      <td>0.735836</td>\n",
       "    </tr>\n",
       "  </tbody>\n",
       "</table>\n",
       "</div>"
      ],
      "text/plain": [
       "metrics        hr       mrr      ndcg\n",
       "topk                                 \n",
       "1        0.586039  0.586039  0.586039\n",
       "3        0.792124  0.678053  0.707400\n",
       "5        0.861034  0.693864  0.735836"
      ]
     },
     "execution_count": 12,
     "metadata": {},
     "output_type": "execute_result"
    }
   ],
   "source": [
    "i2i_sb_metrics.groupby(level='topk').mean()"
   ]
  },
  {
   "cell_type": "markdown",
   "metadata": {},
   "source": [
    "# MFU, MRU, RND"
   ]
  },
  {
   "cell_type": "code",
   "execution_count": 13,
   "metadata": {},
   "outputs": [
    {
     "data": {
      "text/html": [
       "<div>\n",
       "<style scoped>\n",
       "    .dataframe tbody tr th:only-of-type {\n",
       "        vertical-align: middle;\n",
       "    }\n",
       "\n",
       "    .dataframe tbody tr th {\n",
       "        vertical-align: top;\n",
       "    }\n",
       "\n",
       "    .dataframe thead th {\n",
       "        text-align: right;\n",
       "    }\n",
       "</style>\n",
       "<table border=\"1\" class=\"dataframe\">\n",
       "  <thead>\n",
       "    <tr style=\"text-align: right;\">\n",
       "      <th>metrics</th>\n",
       "      <th>hr</th>\n",
       "      <th>mrr</th>\n",
       "      <th>ndcg</th>\n",
       "    </tr>\n",
       "    <tr>\n",
       "      <th>topk</th>\n",
       "      <th></th>\n",
       "      <th></th>\n",
       "      <th></th>\n",
       "    </tr>\n",
       "  </thead>\n",
       "  <tbody>\n",
       "    <tr>\n",
       "      <th>1</th>\n",
       "      <td>0.323508</td>\n",
       "      <td>0.323508</td>\n",
       "      <td>0.323508</td>\n",
       "    </tr>\n",
       "    <tr>\n",
       "      <th>3</th>\n",
       "      <td>0.666823</td>\n",
       "      <td>0.477700</td>\n",
       "      <td>0.526395</td>\n",
       "    </tr>\n",
       "    <tr>\n",
       "      <th>5</th>\n",
       "      <td>0.803243</td>\n",
       "      <td>0.509655</td>\n",
       "      <td>0.583263</td>\n",
       "    </tr>\n",
       "  </tbody>\n",
       "</table>\n",
       "</div>"
      ],
      "text/plain": [
       "metrics        hr       mrr      ndcg\n",
       "topk                                 \n",
       "1        0.323508  0.323508  0.323508\n",
       "3        0.666823  0.477700  0.526395\n",
       "5        0.803243  0.509655  0.583263"
      ]
     },
     "execution_count": 13,
     "metadata": {},
     "output_type": "execute_result"
    }
   ],
   "source": [
    "mfu_metrics.groupby(level='topk').mean()"
   ]
  },
  {
   "cell_type": "code",
   "execution_count": 14,
   "metadata": {},
   "outputs": [
    {
     "data": {
      "text/html": [
       "<div>\n",
       "<style scoped>\n",
       "    .dataframe tbody tr th:only-of-type {\n",
       "        vertical-align: middle;\n",
       "    }\n",
       "\n",
       "    .dataframe tbody tr th {\n",
       "        vertical-align: top;\n",
       "    }\n",
       "\n",
       "    .dataframe thead th {\n",
       "        text-align: right;\n",
       "    }\n",
       "</style>\n",
       "<table border=\"1\" class=\"dataframe\">\n",
       "  <thead>\n",
       "    <tr style=\"text-align: right;\">\n",
       "      <th>metrics</th>\n",
       "      <th>hr</th>\n",
       "      <th>mrr</th>\n",
       "      <th>ndcg</th>\n",
       "    </tr>\n",
       "    <tr>\n",
       "      <th>topk</th>\n",
       "      <th></th>\n",
       "      <th></th>\n",
       "      <th></th>\n",
       "    </tr>\n",
       "  </thead>\n",
       "  <tbody>\n",
       "    <tr>\n",
       "      <th>1</th>\n",
       "      <td>0.579030</td>\n",
       "      <td>0.579030</td>\n",
       "      <td>0.579030</td>\n",
       "    </tr>\n",
       "    <tr>\n",
       "      <th>3</th>\n",
       "      <td>0.794683</td>\n",
       "      <td>0.681587</td>\n",
       "      <td>0.710952</td>\n",
       "    </tr>\n",
       "    <tr>\n",
       "      <th>5</th>\n",
       "      <td>0.831591</td>\n",
       "      <td>0.690457</td>\n",
       "      <td>0.726535</td>\n",
       "    </tr>\n",
       "  </tbody>\n",
       "</table>\n",
       "</div>"
      ],
      "text/plain": [
       "metrics        hr       mrr      ndcg\n",
       "topk                                 \n",
       "1        0.579030  0.579030  0.579030\n",
       "3        0.794683  0.681587  0.710952\n",
       "5        0.831591  0.690457  0.726535"
      ]
     },
     "execution_count": 14,
     "metadata": {},
     "output_type": "execute_result"
    }
   ],
   "source": [
    "mru_metrics.groupby(level='topk').mean()"
   ]
  },
  {
   "cell_type": "code",
   "execution_count": 15,
   "metadata": {},
   "outputs": [
    {
     "data": {
      "text/html": [
       "<div>\n",
       "<style scoped>\n",
       "    .dataframe tbody tr th:only-of-type {\n",
       "        vertical-align: middle;\n",
       "    }\n",
       "\n",
       "    .dataframe tbody tr th {\n",
       "        vertical-align: top;\n",
       "    }\n",
       "\n",
       "    .dataframe thead th {\n",
       "        text-align: right;\n",
       "    }\n",
       "</style>\n",
       "<table border=\"1\" class=\"dataframe\">\n",
       "  <thead>\n",
       "    <tr style=\"text-align: right;\">\n",
       "      <th>metrics</th>\n",
       "      <th>hr</th>\n",
       "      <th>mrr</th>\n",
       "      <th>ndcg</th>\n",
       "    </tr>\n",
       "    <tr>\n",
       "      <th>topk</th>\n",
       "      <th></th>\n",
       "      <th></th>\n",
       "      <th></th>\n",
       "    </tr>\n",
       "  </thead>\n",
       "  <tbody>\n",
       "    <tr>\n",
       "      <th>1</th>\n",
       "      <td>0.084865</td>\n",
       "      <td>0.084865</td>\n",
       "      <td>0.084865</td>\n",
       "    </tr>\n",
       "    <tr>\n",
       "      <th>3</th>\n",
       "      <td>0.226634</td>\n",
       "      <td>0.146181</td>\n",
       "      <td>0.166794</td>\n",
       "    </tr>\n",
       "    <tr>\n",
       "      <th>5</th>\n",
       "      <td>0.365081</td>\n",
       "      <td>0.178021</td>\n",
       "      <td>0.223991</td>\n",
       "    </tr>\n",
       "  </tbody>\n",
       "</table>\n",
       "</div>"
      ],
      "text/plain": [
       "metrics        hr       mrr      ndcg\n",
       "topk                                 \n",
       "1        0.084865  0.084865  0.084865\n",
       "3        0.226634  0.146181  0.166794\n",
       "5        0.365081  0.178021  0.223991"
      ]
     },
     "execution_count": 15,
     "metadata": {},
     "output_type": "execute_result"
    }
   ],
   "source": [
    "rnd_metrics.groupby(level='topk').mean()"
   ]
  },
  {
   "cell_type": "code",
   "execution_count": 16,
   "metadata": {},
   "outputs": [
    {
     "data": {
      "text/html": [
       "<div>\n",
       "<style scoped>\n",
       "    .dataframe tbody tr th:only-of-type {\n",
       "        vertical-align: middle;\n",
       "    }\n",
       "\n",
       "    .dataframe tbody tr th {\n",
       "        vertical-align: top;\n",
       "    }\n",
       "\n",
       "    .dataframe thead th {\n",
       "        text-align: right;\n",
       "    }\n",
       "</style>\n",
       "<table border=\"1\" class=\"dataframe\">\n",
       "  <thead>\n",
       "    <tr style=\"text-align: right;\">\n",
       "      <th>metrics</th>\n",
       "      <th>hr</th>\n",
       "      <th>mrr</th>\n",
       "      <th>ndcg</th>\n",
       "    </tr>\n",
       "    <tr>\n",
       "      <th>topk</th>\n",
       "      <th></th>\n",
       "      <th></th>\n",
       "      <th></th>\n",
       "    </tr>\n",
       "  </thead>\n",
       "  <tbody>\n",
       "    <tr>\n",
       "      <th>1</th>\n",
       "      <td>0.000000</td>\n",
       "      <td>0.000000</td>\n",
       "      <td>0.000000</td>\n",
       "    </tr>\n",
       "    <tr>\n",
       "      <th>3</th>\n",
       "      <td>0.023438</td>\n",
       "      <td>0.011285</td>\n",
       "      <td>0.014446</td>\n",
       "    </tr>\n",
       "    <tr>\n",
       "      <th>5</th>\n",
       "      <td>0.062500</td>\n",
       "      <td>0.021050</td>\n",
       "      <td>0.031270</td>\n",
       "    </tr>\n",
       "  </tbody>\n",
       "</table>\n",
       "</div>"
      ],
      "text/plain": [
       "metrics        hr       mrr      ndcg\n",
       "topk                                 \n",
       "1        0.000000  0.000000  0.000000\n",
       "3        0.023438  0.011285  0.014446\n",
       "5        0.062500  0.021050  0.031270"
      ]
     },
     "execution_count": 16,
     "metadata": {},
     "output_type": "execute_result"
    }
   ],
   "source": [
    "zrs_metrics.groupby(level='topk').mean()"
   ]
  },
  {
   "cell_type": "markdown",
   "metadata": {},
   "source": [
    "# Latex "
   ]
  },
  {
   "cell_type": "code",
   "execution_count": 17,
   "metadata": {},
   "outputs": [],
   "source": [
    "def to_latex(metrics):\n",
    "    return (\n",
    "        metrics\n",
    "        .applymap(lambda x: f\"{x:.3f}\")\n",
    "        .unstack('topk')\n",
    "        .to_frame('values')\n",
    "        .T\n",
    "        .to_latex(index=False)\n",
    "    )"
   ]
  },
  {
   "cell_type": "code",
   "execution_count": 18,
   "metadata": {},
   "outputs": [
    {
     "name": "stdout",
     "output_type": "stream",
     "text": [
      "\\begin{tabular}{lllllllll}\n",
      "\\toprule\n",
      "   hr & \\multicolumn{3}{l}{mrr} & \\multicolumn{3}{l}{ndcg} \\\\\n",
      "    1 &     3 &     5 &     1 &     3 &     5 &     1 &     3 &     5 \\\\\n",
      "\\midrule\n",
      "0.580 & 0.791 & 0.876 & 0.580 & 0.674 & 0.694 & 0.580 & 0.704 & 0.740 \\\\\n",
      "\\bottomrule\n",
      "\\end{tabular}\n",
      "\n"
     ]
    }
   ],
   "source": [
    "print(to_latex(i2i_od_sb_metrics.groupby(level='topk').mean()))"
   ]
  },
  {
   "cell_type": "code",
   "execution_count": 19,
   "metadata": {},
   "outputs": [
    {
     "name": "stdout",
     "output_type": "stream",
     "text": [
      "\\begin{tabular}{lllllllll}\n",
      "\\toprule\n",
      "   hr & \\multicolumn{3}{l}{mrr} & \\multicolumn{3}{l}{ndcg} \\\\\n",
      "    1 &     3 &     5 &     1 &     3 &     5 &     1 &     3 &     5 \\\\\n",
      "\\midrule\n",
      "0.568 & 0.793 & 0.881 & 0.568 & 0.667 & 0.688 & 0.568 & 0.699 & 0.736 \\\\\n",
      "\\bottomrule\n",
      "\\end{tabular}\n",
      "\n"
     ]
    }
   ],
   "source": [
    "print(to_latex(i2i_od_ub_metrics.groupby(level='topk').mean()))"
   ]
  },
  {
   "cell_type": "code",
   "execution_count": 20,
   "metadata": {},
   "outputs": [
    {
     "name": "stdout",
     "output_type": "stream",
     "text": [
      "\\begin{tabular}{lllllllll}\n",
      "\\toprule\n",
      "   hr & \\multicolumn{3}{l}{mrr} & \\multicolumn{3}{l}{ndcg} \\\\\n",
      "    1 &     3 &     5 &     1 &     3 &     5 &     1 &     3 &     5 \\\\\n",
      "\\midrule\n",
      "0.586 & 0.794 & 0.863 & 0.586 & 0.678 & 0.694 & 0.586 & 0.708 & 0.737 \\\\\n",
      "\\bottomrule\n",
      "\\end{tabular}\n",
      "\n"
     ]
    }
   ],
   "source": [
    "print(to_latex(i2i_ub_metrics.groupby(level='topk').mean()))"
   ]
  },
  {
   "cell_type": "code",
   "execution_count": 21,
   "metadata": {},
   "outputs": [
    {
     "name": "stdout",
     "output_type": "stream",
     "text": [
      "\\begin{tabular}{lllllllll}\n",
      "\\toprule\n",
      "   hr & \\multicolumn{3}{l}{mrr} & \\multicolumn{3}{l}{ndcg} \\\\\n",
      "    1 &     3 &     5 &     1 &     3 &     5 &     1 &     3 &     5 \\\\\n",
      "\\midrule\n",
      "0.586 & 0.792 & 0.861 & 0.586 & 0.678 & 0.694 & 0.586 & 0.707 & 0.736 \\\\\n",
      "\\bottomrule\n",
      "\\end{tabular}\n",
      "\n"
     ]
    }
   ],
   "source": [
    "print(to_latex(i2i_sb_metrics.groupby(level='topk').mean()))"
   ]
  },
  {
   "cell_type": "code",
   "execution_count": 22,
   "metadata": {},
   "outputs": [
    {
     "name": "stdout",
     "output_type": "stream",
     "text": [
      "\\begin{tabular}{lllllllll}\n",
      "\\toprule\n",
      "   hr & \\multicolumn{3}{l}{mrr} & \\multicolumn{3}{l}{ndcg} \\\\\n",
      "    1 &     3 &     5 &     1 &     3 &     5 &     1 &     3 &     5 \\\\\n",
      "\\midrule\n",
      "0.324 & 0.667 & 0.803 & 0.324 & 0.478 & 0.510 & 0.324 & 0.526 & 0.583 \\\\\n",
      "\\bottomrule\n",
      "\\end{tabular}\n",
      "\n"
     ]
    }
   ],
   "source": [
    "print(to_latex(mfu_metrics.groupby(level='topk').mean()))"
   ]
  },
  {
   "cell_type": "code",
   "execution_count": 23,
   "metadata": {},
   "outputs": [
    {
     "name": "stdout",
     "output_type": "stream",
     "text": [
      "\\begin{tabular}{lllllllll}\n",
      "\\toprule\n",
      "   hr & \\multicolumn{3}{l}{mrr} & \\multicolumn{3}{l}{ndcg} \\\\\n",
      "    1 &     3 &     5 &     1 &     3 &     5 &     1 &     3 &     5 \\\\\n",
      "\\midrule\n",
      "0.579 & 0.795 & 0.832 & 0.579 & 0.682 & 0.690 & 0.579 & 0.711 & 0.727 \\\\\n",
      "\\bottomrule\n",
      "\\end{tabular}\n",
      "\n"
     ]
    }
   ],
   "source": [
    "print(to_latex(mru_metrics.groupby(level='topk').mean()))"
   ]
  },
  {
   "cell_type": "code",
   "execution_count": 24,
   "metadata": {},
   "outputs": [
    {
     "name": "stdout",
     "output_type": "stream",
     "text": [
      "\\begin{tabular}{lllllllll}\n",
      "\\toprule\n",
      "   hr & \\multicolumn{3}{l}{mrr} & \\multicolumn{3}{l}{ndcg} \\\\\n",
      "    1 &     3 &     5 &     1 &     3 &     5 &     1 &     3 &     5 \\\\\n",
      "\\midrule\n",
      "0.085 & 0.227 & 0.365 & 0.085 & 0.146 & 0.178 & 0.085 & 0.167 & 0.224 \\\\\n",
      "\\bottomrule\n",
      "\\end{tabular}\n",
      "\n"
     ]
    }
   ],
   "source": [
    "print(to_latex(rnd_metrics.groupby(level='topk').mean()))"
   ]
  }
 ],
 "metadata": {
  "interpreter": {
   "hash": "1ba68f285e1c31cfa79ad3009fb16746741280f775149535e5b791f214db1c3e"
  },
  "kernelspec": {
   "display_name": "Python 3.9.7 64-bit ('flrec': conda)",
   "language": "python",
   "name": "python3"
  },
  "language_info": {
   "codemirror_mode": {
    "name": "ipython",
    "version": 3
   },
   "file_extension": ".py",
   "mimetype": "text/x-python",
   "name": "python",
   "nbconvert_exporter": "python",
   "pygments_lexer": "ipython3",
   "version": "3.9.5"
  },
  "orig_nbformat": 4
 },
 "nbformat": 4,
 "nbformat_minor": 2
}
